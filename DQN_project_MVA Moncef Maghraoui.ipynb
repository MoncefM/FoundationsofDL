{
 "cells": [
  {
   "cell_type": "markdown",
   "metadata": {},
   "source": [
    "**You may need to install [OpenCV](https://pypi.python.org/pypi/opencv-python) and [scikit-video](http://www.scikit-video.org/stable/).**"
   ]
  },
  {
   "cell_type": "code",
   "execution_count": 1,
   "metadata": {},
   "outputs": [
    {
     "name": "stderr",
     "output_type": "stream",
     "text": [
      "Using TensorFlow backend.\n"
     ]
    }
   ],
   "source": [
    "import keras\n",
    "import numpy as np\n",
    "import io\n",
    "import base64\n",
    "from IPython.display import HTML\n",
    "import skvideo.io\n",
    "import cv2\n",
    "import json\n",
    "\n",
    "from keras.models import Sequential,model_from_json\n",
    "from keras.layers.core import Dense\n",
    "from keras.optimizers import sgd, Adam\n",
    "from keras.layers import Conv2D, MaxPooling2D, Activation, AveragePooling2D,Reshape,BatchNormalization, Flatten"
   ]
  },
  {
   "cell_type": "markdown",
   "metadata": {},
   "source": [
    "# MiniProject #3: Deep Reinforcement Learning"
   ]
  },
  {
   "cell_type": "markdown",
   "metadata": {},
   "source": [
    "__Notations__: $E_p$ is the expectation under probability $p$. Please justify each of your answer and widely comment your code."
   ]
  },
  {
   "cell_type": "markdown",
   "metadata": {},
   "source": [
    "# Context"
   ]
  },
  {
   "cell_type": "markdown",
   "metadata": {},
   "source": [
    "In a reinforcement learning algorithm, we modelize each step $t$ as an action $a_t$ obtained from a state $s_t$, i.e. $\\{(a_{t},s_{t})_{t\\leq T}\\}$ having the Markov property. We consider a discount factor $\\gamma \\in [0,1]$ that ensures convergence. The goal is to find among all the policies $\\pi$, one that maximizes the expected reward:\n",
    "\n",
    "\\begin{equation*}\n",
    "R(\\pi)=\\sum_{t\\leq T}E_{p^{\\pi}}[\\gamma^t r(s_{t},a_{t})] \\> ,\n",
    "\\end{equation*}\n",
    "\n",
    "where: \n",
    "\\begin{equation*}p^{\\pi}(a_{0},a_{1},s_{1},...,a_{T},s_{T})=p(a_{0})\\prod_{t=1}^{T}\\pi(a_{t}|s_{t})p(s_{t+1}|s_{t},a_{t}) \\> .\n",
    "\\end{equation*}\n",
    "\n",
    "We note the $Q$-function:\n",
    "\n",
    "\\begin{equation*}Q^\\pi(s,a)=E_{p^{\\pi}}[\\sum_{t\\leq T}\\gamma^{t}r(s_{t},a_{t})|s_{0}=s,a_{0}=a] \\> .\n",
    "\\end{equation*}\n",
    "\n",
    "Thus, the optimal Q function is:\n",
    "\\begin{equation*}\n",
    "Q^*(s,a)=\\max_{\\pi}Q^\\pi(s,a) \\> .\n",
    "\\end{equation*}\n",
    "\n",
    "In this project, we will apply the deep reinforcement learning techniques to a simple game: an agent will have to learn from scratch a policy that will permit it maximizing a reward."
   ]
  },
  {
   "cell_type": "markdown",
   "metadata": {},
   "source": [
    "## The environment, the agent and the game"
   ]
  },
  {
   "cell_type": "markdown",
   "metadata": {},
   "source": [
    "### The environment"
   ]
  },
  {
   "cell_type": "markdown",
   "metadata": {},
   "source": [
    "```Environment``` is an abstract class that represents the states, rewards, and actions to obtain the new state."
   ]
  },
  {
   "cell_type": "code",
   "execution_count": 2,
   "metadata": {},
   "outputs": [],
   "source": [
    "class Environment(object):\n",
    "    def __init__(self):\n",
    "        pass\n",
    "\n",
    "    def act(self, act):\n",
    "        \"\"\"\n",
    "        One can act on the environment and obtain its reaction:\n",
    "        - the new state\n",
    "        - the reward of the new state\n",
    "        - should we continue the game?\n",
    "\n",
    "        :return: state, reward, game_over\n",
    "        \"\"\"\n",
    "        pass\n",
    "\n",
    "\n",
    "    def reset(self):\n",
    "        \"\"\"\n",
    "        Reinitialize the environment to a random state and returns\n",
    "        the original state\n",
    "\n",
    "        :return: state\n",
    "        \"\"\"\n",
    "        pass\n",
    "    \n",
    "    def draw(self):\n",
    "        \"\"\"\n",
    "        Visualize in the console or graphically the current state\n",
    "        \"\"\"\n",
    "        pass"
   ]
  },
  {
   "cell_type": "markdown",
   "metadata": {},
   "source": [
    "The method ```act``` allows to act on the environment at a given state $s_t$ (stored internally), via action $a_t$. The method will return the new state $s_{t+1}$, the reward $r(s_{t},a_{t})$ and determines if $t\\leq T$ (*game_over*).\n",
    "\n",
    "The method ```reset``` simply reinitializes the environment to a random state $s_0$.\n",
    "\n",
    "The method ```draw``` displays the current state $s_t$ (this is useful to check the behavior of the Agent).\n",
    "\n",
    "We modelize $s_t$ as a tensor, while $a_t$ is an integer."
   ]
  },
  {
   "cell_type": "markdown",
   "metadata": {},
   "source": [
    "### The Agent"
   ]
  },
  {
   "cell_type": "markdown",
   "metadata": {},
   "source": [
    "The goal of the ```Agent``` is to interact with the ```Environment``` by proposing actions $a_t$ obtained from a given state $s_t$ to attempt to maximize its __reward__ $r(s_t,a_t)$. We propose the following abstract class:"
   ]
  },
  {
   "cell_type": "code",
   "execution_count": 3,
   "metadata": {},
   "outputs": [],
   "source": [
    "class Agent(object):\n",
    "    def __init__(self, epsilon=0.1, n_action=4):\n",
    "        self.epsilon = epsilon\n",
    "        self.n_action = n_action\n",
    "    \n",
    "    def set_epsilon(self, e):\n",
    "        self.epsilon = e\n",
    "\n",
    "    def act(self, s, train=True):\n",
    "        \"\"\" This function should return the next action to do:\n",
    "        an integer between 0 and 4 (not included) with a random exploration of epsilon\"\"\"\n",
    "        if train:\n",
    "            if np.random.rand() <= self.epsilon:\n",
    "#                 a = np.random.randint(0, self.n_action, size = 1)[0]\n",
    "                a = np.random.randint(0, self.n_action)\n",
    "            else:\n",
    "                a = self.learned_act(s)\n",
    "        else: # in some cases, this can improve the performance.. remove it if poor performances\n",
    "            a = self.learned_act(s)\n",
    "\n",
    "        return a\n",
    "\n",
    "    def learned_act(self, s):\n",
    "        \"\"\" Act via the policy of the agent, from a given state s\n",
    "        it proposes an action a\"\"\"\n",
    "        pass\n",
    "\n",
    "    def reinforce(self, s, n_s, a, r, game_over_):\n",
    "        \"\"\" This function is the core of the learning algorithm. \n",
    "        It takes as an input the current state s_, the next state n_s_\n",
    "        the action a_ used to move from s_ to n_s_ and the reward r_.\n",
    "        \n",
    "        Its goal is to learn a policy.\n",
    "        \"\"\"\n",
    "        pass\n",
    "\n",
    "    def save(self):\n",
    "        \"\"\" This function returns basic stats if applicable: the\n",
    "        loss and/or the model\"\"\"\n",
    "        pass\n",
    "\n",
    "    def load(self):\n",
    "        \"\"\" This function allows to restore a model\"\"\"\n",
    "        pass"
   ]
  },
  {
   "cell_type": "markdown",
   "metadata": {},
   "source": [
    "***\n",
    "__Question 1__:\n",
    "Explain the function act. Why is ```epsilon``` essential?"
   ]
  },
  {
   "cell_type": "markdown",
   "metadata": {},
   "source": [
    "Epsilon allows us to switch between exploiting(maximizing rewards in a greedy approach based on the actual knowledge) and exploring(testing new random actions to explore new states)"
   ]
  },
  {
   "cell_type": "markdown",
   "metadata": {},
   "source": [
    "***\n",
    "### The Game"
   ]
  },
  {
   "cell_type": "markdown",
   "metadata": {},
   "source": [
    "The ```Agent``` and the ```Environment``` work in an interlaced way as in the following (take some time to understand this code as it is the core of the project)\n",
    "\n",
    "```python\n",
    "\n"
   ]
  },
  {
   "cell_type": "code",
   "execution_count": 34,
   "metadata": {},
   "outputs": [
    {
     "ename": "TypeError",
     "evalue": "unsupported format string passed to NoneType.__format__",
     "output_type": "error",
     "traceback": [
      "\u001b[1;31m---------------------------------------------------------------------------\u001b[0m",
      "\u001b[1;31mTypeError\u001b[0m                                 Traceback (most recent call last)",
      "\u001b[1;32m<ipython-input-34-9b63248019e1>\u001b[0m in \u001b[0;36m<module>\u001b[1;34m\u001b[0m\n\u001b[0;32m     44\u001b[0m \u001b[1;33m\u001b[0m\u001b[0m\n\u001b[0;32m     45\u001b[0m     print(\"Epoch {:03d}/{:03d} | Loss {:.4f} | Win/lose count {}/{} ({})\"\n\u001b[1;32m---> 46\u001b[1;33m           .format(e, epoch, loss, win, lose, win-lose))\n\u001b[0m\u001b[0;32m     47\u001b[0m     \u001b[0magent\u001b[0m\u001b[1;33m.\u001b[0m\u001b[0msave\u001b[0m\u001b[1;33m(\u001b[0m\u001b[1;33m)\u001b[0m\u001b[1;33m\u001b[0m\u001b[1;33m\u001b[0m\u001b[0m\n",
      "\u001b[1;31mTypeError\u001b[0m: unsupported format string passed to NoneType.__format__"
     ]
    }
   ],
   "source": [
    "epoch = 300\n",
    "env = Environment()\n",
    "agent = Agent()\n",
    "\n",
    "\n",
    "# Number of won games\n",
    "score = 0\n",
    "loss = 0\n",
    "\n",
    "\n",
    "for e in range(epoch):\n",
    "    # At each epoch, we restart to a fresh game and get the initial state\n",
    "    state = env.reset()\n",
    "    # This assumes that the games will end\n",
    "    game_over = False\n",
    "\n",
    "    win = 0\n",
    "    lose = 0\n",
    "    \n",
    "    while not game_over:\n",
    "        # The agent performs an action\n",
    "        action = agent.act(state)\n",
    "\n",
    "        # Apply an action to the environment, get the next state, the reward\n",
    "        # and if the games end\n",
    "        prev_state = state\n",
    "        state, reward, game_over = env.act(action)\n",
    "\n",
    "        # Update the counters\n",
    "        if reward > 0:\n",
    "            win = win + reward\n",
    "        if reward < 0:\n",
    "            lose = lose - reward\n",
    "\n",
    "        # Apply the reinforcement strategy\n",
    "        loss = agent.reinforce(prev_state, state,  action, reward, game_over)\n",
    "\n",
    "    # Save as a mp4\n",
    "    if e % 10 == 0:\n",
    "        env.draw(e)\n",
    "\n",
    "    # Update stats\n",
    "    score += win-lose\n",
    "\n",
    "    print(\"Epoch {:03d}/{:03d} | Loss {:.4f} | Win/lose count {}/{} ({})\"\n",
    "          .format(e, epoch, loss, win, lose, win-lose))\n",
    "    agent.save()"
   ]
  },
  {
   "cell_type": "markdown",
   "metadata": {},
   "source": [
    "# The game, *eat cheese*"
   ]
  },
  {
   "cell_type": "markdown",
   "metadata": {},
   "source": [
    "A rat runs on an island and tries to eat as much as possible. The island is subdivided into $N\\times N$ cells, in which there are cheese (+0.5) and poisonous cells (-1). The rat has a visibility of 2 cells (thus it can see $5^2$ cells). The rat is given a time $T$ to accumulate as much food as possible. It can perform 4 actions: going up, down, left, right. \n",
    "\n",
    "The goal is to code an agent to solve this task that will learn by trial and error. We propose the following environment:"
   ]
  },
  {
   "cell_type": "code",
   "execution_count": 5,
   "metadata": {},
   "outputs": [],
   "source": [
    "class Environment(object):\n",
    "    def __init__(self, grid_size = 10, max_time = 500, temperature = 0.1):\n",
    "        grid_size = grid_size + 4\n",
    "        self.grid_size = grid_size\n",
    "        self.max_time = max_time\n",
    "        self.temperature = temperature\n",
    "\n",
    "        #board on which one plays\n",
    "        self.board = np.zeros((grid_size,grid_size))\n",
    "        self.position = np.zeros((grid_size,grid_size))\n",
    "\n",
    "        # coordinates of the rat\n",
    "        self.x = 0\n",
    "        self.y = 1\n",
    "\n",
    "        # self time\n",
    "        self.t = 0\n",
    "\n",
    "        self.scale = 16\n",
    "\n",
    "        self.to_draw = np.zeros((max_time + 2, grid_size * self.scale, grid_size * self.scale, 3))\n",
    "\n",
    "\n",
    "    def draw(self,e):\n",
    "        skvideo.io.vwrite(str(e) + '.mp4', self.to_draw)\n",
    "\n",
    "    def get_frame(self,t):\n",
    "        # b is a list of n=grid_size matrices of size grid_size*3\n",
    "        b = np.zeros((self.grid_size, self.grid_size, 3)) + 128\n",
    "        \n",
    "        #replaces the coefficients of b by 256 if the coefficients of board in same position are positive\n",
    "        b[self.board > 0,0] = 256\n",
    "        #replaces the coefficients of b by 256 if the coefficients of board in same position are inferior to 0,2\n",
    "        b[self.board < 0,2] = 256\n",
    "        #replace the coefficients of rat position by 256\n",
    "        b[self.x, self.y, :] = 256\n",
    "        \n",
    "        b[-2:,:,:] = 0\n",
    "        b[:,-2:,:] = 0\n",
    "        b[:2,:,:] = 0\n",
    "        b[:,:2,:] = 0\n",
    "        \n",
    "        b =  cv2.resize(b, None, fx = self.scale, fy = self.scale, interpolation = cv2.INTER_NEAREST)\n",
    "\n",
    "        self.to_draw[t,:,:,:] = b\n",
    "        #return an output ??\n",
    "\n",
    "    def act(self, action):\n",
    "        \"\"\"This function returns the new state, reward and decides if the\n",
    "        game ends.\"\"\"\n",
    "\n",
    "        self.get_frame(int(self.t))\n",
    "\n",
    "        self.position = np.zeros((self.grid_size, self.grid_size))\n",
    "\n",
    "        self.position[0:2,:]= -1\n",
    "        self.position[:,0:2] = -1\n",
    "        self.position[-2:, :] = -1\n",
    "        self.position[:, -2:] = -1\n",
    "\n",
    "        self.position[self.x, self.y] = 1\n",
    "        if action == 0:\n",
    "            if self.x == self.grid_size - 3:\n",
    "                self.x = self.x - 1\n",
    "            else:\n",
    "                self.x = self.x + 1\n",
    "                \n",
    "        elif action == 1:\n",
    "            if self.x == 2:\n",
    "                self.x = self.x + 1\n",
    "            else:\n",
    "                self.x = self.x - 1\n",
    "                \n",
    "        elif action == 2:\n",
    "            if self.y == self.grid_size - 3:\n",
    "                self.y = self.y - 1\n",
    "            else:\n",
    "                self.y = self.y + 1\n",
    "                \n",
    "        elif action == 3:\n",
    "            if self.y == 2:\n",
    "                self.y = self.y + 1\n",
    "            else:\n",
    "                self.y = self.y - 1\n",
    "        else:\n",
    "            RuntimeError('Error: action not recognized')\n",
    "        \n",
    "        #increments time counter\n",
    "        self.t = self.t + 1\n",
    "        \n",
    "        #gets the reward value for the new state (x,y)\n",
    "        reward = self.board[self.x, self.y]\n",
    "        self.board[self.x, self.y] = 0\n",
    "        game_over = self.t > self.max_time\n",
    "        state = np.concatenate((self.board.reshape(self.grid_size, self.grid_size,1),\n",
    "                                self.position.reshape(self.grid_size, self.grid_size,1)),\n",
    "                                axis=2)\n",
    "        state = state[self.x-2 : self.x+3, self.y-2 : self.y+3, :]\n",
    "\n",
    "        return state, reward, game_over\n",
    "\n",
    "    def reset(self):\n",
    "        \"\"\"This function resets the game and returns the initial state\"\"\"\n",
    "\n",
    "        self.x = np.random.randint(3, self.grid_size-3, size=1)[0]\n",
    "        self.y = np.random.randint(3, self.grid_size-3, size=1)[0]\n",
    "\n",
    "        #create a grid size table of bonuses and maluses dependant from the temperature\n",
    "        \n",
    "        bonus = 0.5 * np.random.binomial(1, self.temperature, size = self.grid_size**2)\n",
    "        bonus = bonus.reshape(self.grid_size, self.grid_size)\n",
    "\n",
    "        malus = -1.0 * np.random.binomial(1, self.temperature, size = self.grid_size**2)\n",
    "        malus = malus.reshape(self.grid_size, self.grid_size)\n",
    "\n",
    "        self.to_draw = np.zeros((self.max_time+2, self.grid_size*self.scale, self.grid_size*self.scale, 3))\n",
    "\n",
    "        #replace malus by zero if bonus is positive\n",
    "        malus[bonus>0]=0\n",
    "\n",
    "        self.board = bonus + malus\n",
    "\n",
    "        self.position = np.zeros((self.grid_size, self.grid_size))\n",
    "        self.position[0:2,:]= -1\n",
    "        self.position[:,0:2] = -1\n",
    "        self.position[-2:, :] = -1\n",
    "        self.position[:, -2:] = -1\n",
    "        self.board[self.x,self.y] = 0\n",
    "        self.t = 0\n",
    "\n",
    "        state = np.concatenate((\n",
    "                               self.board.reshape(self.grid_size, self.grid_size, 1),\n",
    "                               self.position.reshape(self.grid_size, self.grid_size, 1)),\n",
    "                               axis=2)\n",
    "\n",
    "        state = state[self.x-2 : self.x+3, self.y-2 : self.y+3, :]\n",
    "        return state"
   ]
  },
  {
   "cell_type": "markdown",
   "metadata": {},
   "source": [
    "The following elements are important because they correspond to the hyper parameters for this project:"
   ]
  },
  {
   "cell_type": "code",
   "execution_count": 6,
   "metadata": {},
   "outputs": [],
   "source": [
    "# parameters\n",
    "size = 13\n",
    "\n",
    "T = 200\n",
    "temperature = 0.3\n",
    "epochs_train = 30 # set small when debugging\n",
    "epochs_test = 10 # set small when debugging\n",
    "\n",
    "# display videos\n",
    "def display_videos(name):\n",
    "    video = io.open(name, 'r+b').read()\n",
    "    encoded = base64.b64encode(video)\n",
    "    return '''<video alt=\"test\" controls>\n",
    "                <source src=\"data:video/mp4;base64,{0}\" type=\"video/mp4\" />\n",
    "             </video>'''.format(encoded.decode('ascii'))"
   ]
  },
  {
   "cell_type": "markdown",
   "metadata": {},
   "source": [
    "__Question 2__ Explain the use of the arrays ```position``` and ```board```."
   ]
  },
  {
   "cell_type": "markdown",
   "metadata": {},
   "source": [
    "position is the position of the rat on the game map and board is the game map"
   ]
  },
  {
   "cell_type": "markdown",
   "metadata": {},
   "source": [
    "## Random Agent"
   ]
  },
  {
   "cell_type": "markdown",
   "metadata": {},
   "source": [
    "***\n",
    "__Question 3__ Implement a random Agent (only ```learned_act``` needs to be implemented):"
   ]
  },
  {
   "cell_type": "code",
   "execution_count": 7,
   "metadata": {},
   "outputs": [],
   "source": [
    "class RandomAgent(Agent):\n",
    "    def __init__(self):\n",
    "        super(RandomAgent, self).__init__()\n",
    "        pass\n",
    "\n",
    "    def learned_act(self, s):\n",
    "        return np.random.randint(0, self.n_action)\n",
    "#         return np.random.randint(0, self.n_action, size=1)[0]"
   ]
  },
  {
   "cell_type": "markdown",
   "metadata": {},
   "source": [
    "***\n",
    "***\n",
    "__Question 4__ Visualize the game moves. You need to fill in the following function for the evaluation:"
   ]
  },
  {
   "cell_type": "code",
   "execution_count": 8,
   "metadata": {},
   "outputs": [],
   "source": [
    "def test(agent,env,epochs,prefix=''):\n",
    "    # Number of won games\n",
    "    score = 0\n",
    "    \n",
    "    for e in range(epochs):\n",
    "        ##### FILL IN HERE\n",
    "        state = env.reset() \n",
    "        win = 0\n",
    "        lose = 0\n",
    "        game_over = False\n",
    "        while not game_over :\n",
    "        \n",
    "            action = agent.act(state, train=False)\n",
    "            state, reward, game_over = env.act(action)\n",
    "            # Update the counters\n",
    "            if reward > 0:\n",
    "                win = win + reward\n",
    "            if reward < 0:\n",
    "                lose = lose - reward\n",
    "        # Save as a mp4\n",
    "        env.draw(prefix+str(e))\n",
    "\n",
    "        # Update stats\n",
    "        score = score + win-lose\n",
    "\n",
    "        print(\"Win/lose count {}/{}. Average score ({})\"\n",
    "              .format(win, lose, score/(1+e)))\n",
    "    print('Final score: '+str(score/epochs))"
   ]
  },
  {
   "cell_type": "code",
   "execution_count": 21,
   "metadata": {},
   "outputs": [
    {
     "name": "stdout",
     "output_type": "stream",
     "text": [
      "Win/lose count 10.5/15.0. Average score (-4.5)\n",
      "Win/lose count 13.5/13.0. Average score (-2.0)\n",
      "Win/lose count 11.0/14.0. Average score (-2.3333333333333335)\n",
      "Win/lose count 12.0/14.0. Average score (-2.25)\n",
      "Win/lose count 7.0/11.0. Average score (-2.6)\n",
      "Win/lose count 10.5/11.0. Average score (-2.25)\n",
      "Win/lose count 13.0/18.0. Average score (-2.642857142857143)\n",
      "Win/lose count 9.0/15.0. Average score (-3.0625)\n",
      "Win/lose count 10.5/14.0. Average score (-3.111111111111111)\n",
      "Win/lose count 11.0/15.0. Average score (-3.2)\n",
      "Final score: -3.2\n"
     ]
    },
    {
     "data": {
      "text/html": [
       "<video alt=\"test\" controls>\n",
       "                <source src=\"data:video/mp4;base64,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\" type=\"video/mp4\" />\n",
       "             </video>"
      ],
      "text/plain": [
       "<IPython.core.display.HTML object>"
      ]
     },
     "execution_count": 21,
     "metadata": {},
     "output_type": "execute_result"
    }
   ],
   "source": [
    "# Initialize the game\n",
    "env = Environment(grid_size = size, max_time = T, temperature=temperature)\n",
    "\n",
    "# Initialize the agent!\n",
    "agent = RandomAgent()\n",
    "\n",
    "test(agent, env, epochs_test, prefix = 'random')\n",
    "HTML(display_videos('random0.mp4'))"
   ]
  },
  {
   "cell_type": "markdown",
   "metadata": {},
   "source": [
    "***\n",
    "## DQN"
   ]
  },
  {
   "cell_type": "markdown",
   "metadata": {},
   "source": [
    "Let us assume here that $T=\\infty$.\n",
    "\n",
    "***\n",
    "__Question 5__ Let $\\pi$ be a policy, show that:\n",
    "\n",
    "\\begin{equation*}\n",
    "Q^{\\pi}(s,a)=E_{(s',a')\\sim p(.|s,a)}[r(s,a)+\\gamma Q^{\\pi}(s',a')]\n",
    "\\end{equation*}\n",
    "\n",
    "Then, show that for the optimal policy $\\pi^*$ (we assume its existence), the following holds: \n",
    "\n",
    "\\begin{equation*}\n",
    "Q^{*}(s,a)=E_{s'\\sim \\pi^*(.|s,a)}[r(s,a)+\\gamma\\max_{a'}Q^{*}(s',a')].\n",
    "\\end{equation*}\n",
    "Finally, deduce that a plausible objective is:\n",
    "\n",
    "\\begin{equation*}\n",
    "\\mathcal{L}(\\theta)=E_{s' \\sim \\pi^*(.|s,a)}\\Vert r+\\gamma\\max\\max_{a'}Q(s',a',\\theta)-Q(s,a,\\theta)\\Vert^{2}.\n",
    "\\end{equation*}\n",
    "\n",
    "\n"
   ]
  },
  {
   "cell_type": "markdown",
   "metadata": {},
   "source": [
    "## proof1"
   ]
  },
  {
   "cell_type": "markdown",
   "metadata": {},
   "source": [
    "We have\n",
    "\n",
    "$$ Q^\\pi(s,a)=E_{p^{\\pi}}[\\sum_{t}\\gamma^{t}r(s_{t},a_{t})|s_{0}=s,a_{0}=a] \\> $$\n",
    "\n",
    "$$ Q^\\pi(s,a)=E_{p^{\\pi}}[ r(s_{0},a_{0}) + \\sum_{1 \\leq t}\\gamma^{t}r(s_{t},a_{t})|s_{0}=s,a_{0}=a] \\> $$\n",
    "\n",
    "$$ Q^\\pi(s,a)=E_{p^{\\pi}}[ r(s,a) + \\gamma \\sum_{1 \\leq t}\\gamma^{t-1}r(s_{t},a_{t})|s_{0}=s,a_{0}=a] \\> $$\n",
    "\n",
    "\n",
    "$$ Q^\\pi(s,a)=E_{(s',a')\\sim p(.|s,a)}[ r(s,a) + E_{p^{\\pi}}[ \\gamma \\sum_{t}\\gamma^{t}r(s_{t}^\\prime,a_{t}^\\prime)|s_{0}^\\prime=s^\\prime,a_{0}^\\prime=a^\\prime] ] \\> $$\n",
    "\n",
    "where $ (s_{t},a_{t}) = (s_{t}^\\prime,a_{t}^\\prime) $ and $ (s^\\prime,a^\\prime) = (s_1 , a_1)$  )\n",
    "\n",
    "Finally\n",
    "\n",
    "$$ Q^{\\pi}(s,a)=E_{(s',a')\\sim p(.|s,a)}[r(s,a)+\\gamma Q^{\\pi}(s',a')] $$"
   ]
  },
  {
   "cell_type": "markdown",
   "metadata": {},
   "source": [
    "## Proof2"
   ]
  },
  {
   "cell_type": "markdown",
   "metadata": {},
   "source": [
    "Since:\n",
    "\n",
    "$$ \\pi^*(s) = \\max_a Q^*(s,a) $$\n",
    "\n",
    "then : \n",
    "\n",
    "$$ Q^{*}(s,a)=E_{(s',a')\\sim \\pi^* (.|s,a)}[r(s,a)+\\gamma Q^{\\pi^*}(s',\\pi^*(s'))] $$\n",
    "\n",
    "then :\n",
    "\n",
    "\\begin{equation*}\n",
    "Q^{*}(s,a)=E_{s'\\sim \\pi^*(.|s,a)}[r(s,a)+\\gamma\\max_{a'}Q^{*}(s',a')].\n",
    "\\end{equation*}"
   ]
  },
  {
   "cell_type": "markdown",
   "metadata": {},
   "source": [
    "## Proof3"
   ]
  },
  {
   "cell_type": "markdown",
   "metadata": {},
   "source": [
    "This following cost function satisfies the Bellman equation:  \n",
    "\\begin{equation*}\n",
    "\\mathcal{L}(\\theta)=E_{s' \\sim \\pi^*(.|s,a)}\\Vert r+\\gamma\\max\\max_{a'}Q(s',a',\\theta)-Q(s,a,\\theta)\\Vert^{2}.\n",
    "\\end{equation*}\n",
    "\n",
    "In fact we saw in the question 2 that the Q-value function is optimal if and only if the difference is null."
   ]
  },
  {
   "cell_type": "markdown",
   "metadata": {},
   "source": [
    "***\n",
    "The DQN-learning algorithm relies on these derivations to train the parameters $\\theta$ of a Deep Neural Network:\n",
    "\n",
    "1. At the state $s_t$, select the action $a_t$ with best reward using $Q_t$ and store the results;\n",
    "\n",
    "2. Obtain the new state $s_{t+1}$ from the environment $p$;\n",
    "\n",
    "3. Store $(s_t,a_t,s_{t+1})$;\n",
    "\n",
    "4. Obtain $Q_{t+1}$ by minimizing  $\\mathcal{L}$ from a recovered batch from the previously stored results.\n",
    "\n",
    "***\n",
    "__Question 6__ Implement the class ```Memory``` that stores moves (in a replay buffer) via ```remember``` and provides a ```random_access``` to these. Specify a maximum memory size to avoid side effects. You can for example use a ```list()``` and set by default ```max_memory=100```."
   ]
  },
  {
   "cell_type": "code",
   "execution_count": 9,
   "metadata": {},
   "outputs": [],
   "source": [
    "class Memory(object):\n",
    "    def __init__(self, max_memory = 2000):\n",
    "        self.max_memory = max_memory\n",
    "        self.memory = list()\n",
    "\n",
    "    def remember(self, m):\n",
    "        # we add to the list the move m containing action, state, new state, reward and game_over variable\n",
    "        if len(self.memory) <= self.max_memory:\n",
    "            self.memory = self.memory + [m]\n",
    "\n",
    "    def random_access(self):\n",
    "        # we sample a sublist from the memory list\n",
    "#         random_i = np.random.randint(0, len(self.memory), size=1)[0]\n",
    "        random_i = np.random.randint(0, len(self.memory))\n",
    "        return self.memory[random_i]"
   ]
  },
  {
   "cell_type": "markdown",
   "metadata": {},
   "source": [
    "***\n",
    "The pipeline we will use for training is given below:"
   ]
  },
  {
   "cell_type": "code",
   "execution_count": 22,
   "metadata": {},
   "outputs": [],
   "source": [
    "def train(agent,env,epoch,prefix=''):\n",
    "    # Number of won games\n",
    "    score = 0\n",
    "    loss = 0\n",
    "\n",
    "    for e in range(epoch):\n",
    "        # At each epoch, we restart to a fresh game and get the initial state\n",
    "        state = env.reset()\n",
    "        # This assumes that the games will terminate\n",
    "        game_over = False\n",
    "\n",
    "        win = 0\n",
    "        lose = 0\n",
    "\n",
    "        while not game_over:\n",
    "            # The agent performs an action\n",
    "            action = agent.act(state, train = True)\n",
    "\n",
    "            # Apply an action to the environment, get the next state, the reward\n",
    "            # and if the games end\n",
    "            prev_state = state\n",
    "            state, reward, game_over = env.act(action)\n",
    "\n",
    "            # Update the counters\n",
    "            if reward > 0:\n",
    "                win = win + reward\n",
    "            if reward < 0:\n",
    "                lose = lose - reward\n",
    "\n",
    "            # Apply the reinforcement strategy\n",
    "            loss = agent.reinforce(prev_state, state, action, reward, game_over)\n",
    "\n",
    "        # Save as a mp4\n",
    "        if e % 10 == 0:\n",
    "            env.draw(prefix + str(e))\n",
    "\n",
    "        # Update stats\n",
    "        score += win - lose\n",
    "\n",
    "        print(\"Epoch {:03d}/{:03d} | Loss {:.4f} | Win/lose count {}/{} ({})\"\n",
    "              .format(e, epoch, loss, win, lose, win-lose))\n",
    "        agent.save(name_weights = prefix + 'model.h5', name_model = prefix + 'model.json')"
   ]
  },
  {
   "cell_type": "markdown",
   "metadata": {},
   "source": [
    "***\n",
    "__Question 7__ Implement the DQN training algorithm using a cascade of fully connected layers. You can use different learning rate, batch size or memory size parameters. In particular, the loss might oscillate while the player will start to win the games. You have to find a good criterium."
   ]
  },
  {
   "cell_type": "code",
   "execution_count": 23,
   "metadata": {},
   "outputs": [],
   "source": [
    "class DQN(Agent):\n",
    "    def __init__(self, grid_size,  epsilon = 0.1, memory_size = 100, batch_size = 16,n_state = 2):\n",
    "        super(DQN, self).__init__(epsilon = epsilon)\n",
    "\n",
    "        # Discount for Q learning\n",
    "        self.discount = 0.99\n",
    "        \n",
    "        self.grid_size = grid_size\n",
    "        \n",
    "        # number of state\n",
    "        self.n_state = n_state\n",
    "\n",
    "        # Memory\n",
    "        self.memory = Memory(memory_size)\n",
    "        \n",
    "        # Batch size when learning\n",
    "        self.batch_size = batch_size\n",
    "\n",
    "    def learned_act(self, s):\n",
    "        # in order to avoid action values higher than 4 but explain why \n",
    "        return np.argmax(self.model.predict(s.reshape([1,\n",
    "                                                       s.shape[0],\n",
    "                                                       s.shape[1],\n",
    "                                                       s.shape[2]])\n",
    "                                           )[0]\n",
    "                        )\n",
    "\n",
    "    def reinforce(self, s_, n_s_, a_, r_, game_over_):\n",
    "        # Two steps: first memorize the states, second learn from the pool\n",
    "\n",
    "        self.memory.remember([s_, n_s_, a_, r_, game_over_])\n",
    "        # the rat can see 5² cells\n",
    "        input_states = np.zeros((self.batch_size, 5, 5, self.n_state))\n",
    "        target_q = np.zeros((self.batch_size, 4))\n",
    "        \n",
    "        for i in range(self.batch_size):\n",
    "            ######## FILL IN\n",
    "            # we access a random sample from memory\n",
    "            s_, n_s_, a_, r_, game_over_ = self.memory.random_access()        \n",
    "            input_states[i] = s_\n",
    "            \n",
    "            if game_over_:\n",
    "                ######## FILL IN\n",
    "                #since the game is over, there is no additionnal action to perform, thus no future reward to collect\n",
    "                target_q[i, a_] = r_\n",
    "                \n",
    "            else:\n",
    "                ######## FILL IN\n",
    "                #we apply the bellman equation to update our target q\n",
    "                target_q[i, a_] = r_ + self.discount * max(self.model.predict(n_s_.reshape([1,\n",
    "                                                                                                    s_.shape[0],\n",
    "                                                                                                    s_.shape[1],\n",
    "                                                                                                    s_.shape[2]])\n",
    "                                                                                                    )[0])\n",
    "\n",
    "\n",
    "\n",
    "        ######## FILL IN\n",
    "        \n",
    "        # HINT: Clip the target to avoid exploiding gradients.. -- clipping is a bit tighter\n",
    "        target_q = np.clip(target_q, -3, 3)\n",
    "\n",
    "        l = self.model.train_on_batch(input_states, target_q)\n",
    "        return l\n",
    "\n",
    "    def save(self,name_weights = 'model.h5',name_model = 'model.json'):\n",
    "        self.model.save_weights(name_weights, overwrite = True)\n",
    "        with open(name_model, \"w\") as outfile:\n",
    "            json.dump(self.model.to_json(), outfile)\n",
    "            \n",
    "    def load(self,name_weights = 'model.h5', name_model = 'model.json'):\n",
    "        with open(name_model, \"r\") as jfile:\n",
    "            model = model_from_json(json.load(jfile))\n",
    "        model.load_weights(name_weights)\n",
    "        model.compile(\"sgd\", \"mse\")\n",
    "        self.model = model\n",
    "\n",
    "            \n",
    "class DQN_FC(DQN):\n",
    "    def __init__(self, *args, lr = 0.1, **kwargs):\n",
    "        super(DQN_FC, self).__init__( *args, **kwargs)\n",
    "        \n",
    "        # NN Model\n",
    "        \n",
    "        ####### FILL IN\n",
    "        model = Sequential()\n",
    "        #since the model in not able to receive (5,5,2) array as input, we flatten the state to be able train the model\n",
    "        model.add(Flatten())\n",
    "        model.add(Dense(10, activation = 'relu', input_shape = (5, 5, self.n_state)))\n",
    "        model.add(Dense(4, activation = \"softmax\"))\n",
    "        model.compile(sgd(lr = lr, decay = 1e-4, momentum = 0.0), \"mse\")\n",
    "        self.model = model\n",
    "        "
   ]
  },
  {
   "cell_type": "code",
   "execution_count": 24,
   "metadata": {},
   "outputs": [
    {
     "name": "stdout",
     "output_type": "stream",
     "text": [
      "Epoch 000/050 | Loss 0.0216 | Win/lose count 2.0/5.0 (-3.0)\n",
      "Epoch 001/050 | Loss 0.0126 | Win/lose count 1.5/3.0 (-1.5)\n",
      "Epoch 002/050 | Loss 0.0335 | Win/lose count 4.0/2.0 (2.0)\n",
      "Epoch 003/050 | Loss 0.0509 | Win/lose count 4.0/5.0 (-1.0)\n",
      "Epoch 004/050 | Loss 0.0276 | Win/lose count 2.5/5.0 (-2.5)\n",
      "Epoch 005/050 | Loss 0.0514 | Win/lose count 5.0/7.0 (-2.0)\n",
      "Epoch 006/050 | Loss 0.0552 | Win/lose count 4.5/4.0 (0.5)\n",
      "Epoch 007/050 | Loss 0.0314 | Win/lose count 3.5/4.0 (-0.5)\n",
      "Epoch 008/050 | Loss 0.0316 | Win/lose count 3.5/6.0 (-2.5)\n",
      "Epoch 009/050 | Loss 0.0328 | Win/lose count 0.5/6.0 (-5.5)\n",
      "Epoch 010/050 | Loss 0.0365 | Win/lose count 3.5/4.0 (-0.5)\n",
      "Epoch 011/050 | Loss 0.0211 | Win/lose count 4.0/3.0 (1.0)\n",
      "Epoch 012/050 | Loss 0.0168 | Win/lose count 3.0/2.0 (1.0)\n",
      "Epoch 013/050 | Loss 0.0365 | Win/lose count 2.0/3.0 (-1.0)\n",
      "Epoch 014/050 | Loss 0.0318 | Win/lose count 3.0/1.0 (2.0)\n",
      "Epoch 015/050 | Loss 0.0673 | Win/lose count 2.0/1.0 (1.0)\n",
      "Epoch 016/050 | Loss 0.0235 | Win/lose count 3.0/4.0 (-1.0)\n",
      "Epoch 017/050 | Loss 0.0389 | Win/lose count 2.5/5.0 (-2.5)\n",
      "Epoch 018/050 | Loss 0.0149 | Win/lose count 3.0/4.0 (-1.0)\n",
      "Epoch 019/050 | Loss 0.0457 | Win/lose count 5.0/7.0 (-2.0)\n",
      "Epoch 020/050 | Loss 0.0293 | Win/lose count 0.5/3.0 (-2.5)\n",
      "Epoch 021/050 | Loss 0.0349 | Win/lose count 3.5/5.0 (-1.5)\n",
      "Epoch 022/050 | Loss 0.0271 | Win/lose count 2.5/2.0 (0.5)\n",
      "Epoch 023/050 | Loss 0.0276 | Win/lose count 3.5/6.0 (-2.5)\n",
      "Epoch 024/050 | Loss 0.0167 | Win/lose count 3.5/5.0 (-1.5)\n",
      "Epoch 025/050 | Loss 0.0169 | Win/lose count 1.5/2.0 (-0.5)\n",
      "Epoch 026/050 | Loss 0.0306 | Win/lose count 2.0/2.0 (0.0)\n",
      "Epoch 027/050 | Loss 0.0326 | Win/lose count 1.0/2.0 (-1.0)\n",
      "Epoch 028/050 | Loss 0.0527 | Win/lose count 2.0/1.0 (1.0)\n",
      "Epoch 029/050 | Loss 0.0280 | Win/lose count 2.5/2.0 (0.5)\n",
      "Epoch 030/050 | Loss 0.0263 | Win/lose count 3.0/2.0 (1.0)\n",
      "Epoch 031/050 | Loss 0.0195 | Win/lose count 3.0/5.0 (-2.0)\n",
      "Epoch 032/050 | Loss 0.0227 | Win/lose count 3.0/3.0 (0.0)\n",
      "Epoch 033/050 | Loss 0.0329 | Win/lose count 5.0/3.0 (2.0)\n",
      "Epoch 034/050 | Loss 0.0352 | Win/lose count 1.5/3.0 (-1.5)\n",
      "Epoch 035/050 | Loss 0.0491 | Win/lose count 3.0/2.0 (1.0)\n",
      "Epoch 036/050 | Loss 0.0184 | Win/lose count 5.5/4.0 (1.5)\n",
      "Epoch 037/050 | Loss 0.0398 | Win/lose count 1.5/6.0 (-4.5)\n",
      "Epoch 038/050 | Loss 0.0357 | Win/lose count 0/2.0 (-2.0)\n",
      "Epoch 039/050 | Loss 0.0355 | Win/lose count 3.0/4.0 (-1.0)\n",
      "Epoch 040/050 | Loss 0.0300 | Win/lose count 2.5/3.0 (-0.5)\n",
      "Epoch 041/050 | Loss 0.0181 | Win/lose count 2.0/2.0 (0.0)\n",
      "Epoch 042/050 | Loss 0.0473 | Win/lose count 1.5/3.0 (-1.5)\n",
      "Epoch 043/050 | Loss 0.0355 | Win/lose count 1.5/6.0 (-4.5)\n",
      "Epoch 044/050 | Loss 0.0366 | Win/lose count 3.0/6.0 (-3.0)\n",
      "Epoch 045/050 | Loss 0.0305 | Win/lose count 2.5/2.0 (0.5)\n",
      "Epoch 046/050 | Loss 0.0166 | Win/lose count 2.0/2.0 (0.0)\n",
      "Epoch 047/050 | Loss 0.0189 | Win/lose count 2.0/1.0 (1.0)\n",
      "Epoch 048/050 | Loss 0.0337 | Win/lose count 3.0/3.0 (0.0)\n",
      "Epoch 049/050 | Loss 0.0344 | Win/lose count 2.0/3.0 (-1.0)\n"
     ]
    },
    {
     "data": {
      "text/html": [
       "<video alt=\"test\" controls>\n",
       "                <source src=\"data:video/mp4;base64,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\" type=\"video/mp4\" />\n",
       "             </video>"
      ],
      "text/plain": [
       "<IPython.core.display.HTML object>"
      ]
     },
     "execution_count": 24,
     "metadata": {},
     "output_type": "execute_result"
    }
   ],
   "source": [
    "env = Environment(grid_size = size, max_time = T, temperature = 0.3)\n",
    "agent = DQN_FC(size, lr = 0.1, epsilon = 0.1, memory_size = 2000, batch_size = 32)\n",
    "train(agent, env, epochs_train, prefix = 'fc_train')\n",
    "HTML(display_videos('fc_train10.mp4'))"
   ]
  },
  {
   "cell_type": "markdown",
   "metadata": {},
   "source": [
    "***\n",
    "***\n",
    "__Question 8__ Implement the DQN training algorithm using a CNN (for example, 2 convolutional layers and one final fully connected layer)."
   ]
  },
  {
   "cell_type": "code",
   "execution_count": 25,
   "metadata": {},
   "outputs": [],
   "source": [
    "class DQN_CNN(DQN):\n",
    "    def __init__(self, *args,lr=0.1,**kwargs):\n",
    "        super(DQN_CNN, self).__init__(*args,**kwargs)\n",
    "        \n",
    "        ###### FILL IN\n",
    "        model = Sequential()\n",
    "        model.add(Conv2D(64, kernel_size = (2, 2), input_shape = (5, 5, self.n_state), activation = 'relu', padding = 'same'))\n",
    "        model.add(Conv2D(32, kernel_size = (2, 2), activation = 'relu')) \n",
    "        model.add(Flatten())\n",
    "        model.add(Dense(4))\n",
    "        \n",
    "        model.compile(Adam(lr = lr), \"mse\")\n",
    "        self.model = model"
   ]
  },
  {
   "cell_type": "code",
   "execution_count": 26,
   "metadata": {
    "scrolled": true
   },
   "outputs": [
    {
     "name": "stdout",
     "output_type": "stream",
     "text": [
      "Epoch 000/050 | Loss 0.0101 | Win/lose count 2.0/3.0 (-1.0)\n",
      "Epoch 001/050 | Loss 0.0000 | Win/lose count 5.5/8.0 (-2.5)\n",
      "Epoch 002/050 | Loss 0.0230 | Win/lose count 3.0/7.0 (-4.0)\n",
      "Epoch 003/050 | Loss 0.0101 | Win/lose count 13.5/16.0 (-2.5)\n",
      "Epoch 004/050 | Loss 0.0076 | Win/lose count 13.5/10.0 (3.5)\n",
      "Epoch 005/050 | Loss 0.0188 | Win/lose count 10.0/15.0 (-5.0)\n",
      "Epoch 006/050 | Loss 0.0194 | Win/lose count 12.5/9.0 (3.5)\n",
      "Epoch 007/050 | Loss 0.0213 | Win/lose count 5.0/12.0 (-7.0)\n",
      "Epoch 008/050 | Loss 0.0061 | Win/lose count 15.5/24.0 (-8.5)\n",
      "Epoch 009/050 | Loss 0.0078 | Win/lose count 8.0/12.0 (-4.0)\n",
      "Epoch 010/050 | Loss 0.0214 | Win/lose count 13.5/17.0 (-3.5)\n",
      "Epoch 011/050 | Loss 0.0245 | Win/lose count 11.5/8.0 (3.5)\n",
      "Epoch 012/050 | Loss 0.0133 | Win/lose count 17.0/17.0 (0.0)\n",
      "Epoch 013/050 | Loss 0.0105 | Win/lose count 9.0/20.0 (-11.0)\n",
      "Epoch 014/050 | Loss 0.0177 | Win/lose count 11.0/10.0 (1.0)\n",
      "Epoch 015/050 | Loss 0.0200 | Win/lose count 7.5/17.0 (-9.5)\n",
      "Epoch 016/050 | Loss 0.0230 | Win/lose count 14.0/13.0 (1.0)\n",
      "Epoch 017/050 | Loss 0.0315 | Win/lose count 8.0/20.0 (-12.0)\n",
      "Epoch 018/050 | Loss 0.0251 | Win/lose count 9.0/13.0 (-4.0)\n",
      "Epoch 019/050 | Loss 0.0095 | Win/lose count 6.0/15.0 (-9.0)\n",
      "Epoch 020/050 | Loss 0.0334 | Win/lose count 16.5/11.0 (5.5)\n",
      "Epoch 021/050 | Loss 0.0099 | Win/lose count 8.0/8.0 (0.0)\n",
      "Epoch 022/050 | Loss 0.0322 | Win/lose count 8.0/10.0 (-2.0)\n",
      "Epoch 023/050 | Loss 0.0268 | Win/lose count 7.5/9.0 (-1.5)\n",
      "Epoch 024/050 | Loss 0.0202 | Win/lose count 7.5/5.0 (2.5)\n",
      "Epoch 025/050 | Loss 0.0180 | Win/lose count 9.0/14.0 (-5.0)\n",
      "Epoch 026/050 | Loss 0.0065 | Win/lose count 10.0/24.0 (-14.0)\n",
      "Epoch 027/050 | Loss 0.0280 | Win/lose count 8.0/13.0 (-5.0)\n",
      "Epoch 028/050 | Loss 0.0070 | Win/lose count 13.0/19.0 (-6.0)\n",
      "Epoch 029/050 | Loss 0.0175 | Win/lose count 11.5/16.0 (-4.5)\n",
      "Epoch 030/050 | Loss 0.0189 | Win/lose count 8.0/11.0 (-3.0)\n",
      "Epoch 031/050 | Loss 0.0391 | Win/lose count 13.5/17.0 (-3.5)\n",
      "Epoch 032/050 | Loss 0.0224 | Win/lose count 9.0/6.0 (3.0)\n",
      "Epoch 033/050 | Loss 0.0183 | Win/lose count 10.5/16.0 (-5.5)\n",
      "Epoch 034/050 | Loss 0.0169 | Win/lose count 9.5/7.0 (2.5)\n",
      "Epoch 035/050 | Loss 0.0377 | Win/lose count 10.0/13.0 (-3.0)\n",
      "Epoch 036/050 | Loss 0.0377 | Win/lose count 15.0/11.0 (4.0)\n",
      "Epoch 037/050 | Loss 0.0105 | Win/lose count 9.5/15.0 (-5.5)\n",
      "Epoch 038/050 | Loss 0.0229 | Win/lose count 7.5/13.0 (-5.5)\n",
      "Epoch 039/050 | Loss 0.0235 | Win/lose count 7.5/13.0 (-5.5)\n",
      "Epoch 040/050 | Loss 0.0176 | Win/lose count 8.5/14.0 (-5.5)\n",
      "Epoch 041/050 | Loss 0.0259 | Win/lose count 9.0/12.0 (-3.0)\n",
      "Epoch 042/050 | Loss 0.0084 | Win/lose count 12.0/15.0 (-3.0)\n",
      "Epoch 043/050 | Loss 0.0143 | Win/lose count 9.0/4.0 (5.0)\n",
      "Epoch 044/050 | Loss 0.0129 | Win/lose count 9.5/17.0 (-7.5)\n",
      "Epoch 045/050 | Loss 0.0242 | Win/lose count 6.5/13.0 (-6.5)\n",
      "Epoch 046/050 | Loss 0.0073 | Win/lose count 10.5/19.0 (-8.5)\n",
      "Epoch 047/050 | Loss 0.0253 | Win/lose count 13.0/20.0 (-7.0)\n",
      "Epoch 048/050 | Loss 0.0494 | Win/lose count 7.0/19.0 (-12.0)\n",
      "Epoch 049/050 | Loss 0.0228 | Win/lose count 7.5/15.0 (-7.5)\n"
     ]
    },
    {
     "data": {
      "text/html": [
       "<video alt=\"test\" controls>\n",
       "                <source src=\"data:video/mp4;base64,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\" type=\"video/mp4\" />\n",
       "             </video>"
      ],
      "text/plain": [
       "<IPython.core.display.HTML object>"
      ]
     },
     "execution_count": 26,
     "metadata": {},
     "output_type": "execute_result"
    }
   ],
   "source": [
    "epochs_train = 50\n",
    "env = Environment(grid_size = size, max_time = T, temperature = 0.3)\n",
    "agent = DQN_CNN(size, lr = .1, epsilon = 0.1, memory_size = 2000, batch_size = 32)\n",
    "train(agent,env,epochs_train,prefix = 'cnn_train')\n",
    "HTML(display_videos('cnn_train10.mp4'))"
   ]
  },
  {
   "cell_type": "code",
   "execution_count": 27,
   "metadata": {},
   "outputs": [
    {
     "name": "stdout",
     "output_type": "stream",
     "text": [
      "Epoch 000/050 | Loss 0.0367 | Win/lose count 13.0/2.0 (11.0)\n",
      "Epoch 001/050 | Loss 0.0246 | Win/lose count 10.5/6.0 (4.5)\n",
      "Epoch 002/050 | Loss 0.0197 | Win/lose count 10.0/2.0 (8.0)\n",
      "Epoch 003/050 | Loss 0.0090 | Win/lose count 14.5/3.0 (11.5)\n",
      "Epoch 004/050 | Loss 0.0168 | Win/lose count 5.0/6.0 (-1.0)\n",
      "Epoch 005/050 | Loss 0.0131 | Win/lose count 2.5/4.0 (-1.5)\n",
      "Epoch 006/050 | Loss 0.0136 | Win/lose count 5.0/3.0 (2.0)\n",
      "Epoch 007/050 | Loss 0.0109 | Win/lose count 2.5/1.0 (1.5)\n",
      "Epoch 008/050 | Loss 0.0226 | Win/lose count 5.5/2.0 (3.5)\n",
      "Epoch 009/050 | Loss 0.0158 | Win/lose count 7.0/3.0 (4.0)\n",
      "Epoch 010/050 | Loss 0.0061 | Win/lose count 5.0/8.0 (-3.0)\n",
      "Epoch 011/050 | Loss 0.0175 | Win/lose count 5.0/4.0 (1.0)\n",
      "Epoch 012/050 | Loss 0.0023 | Win/lose count 5.5/1.0 (4.5)\n",
      "Epoch 013/050 | Loss 0.0162 | Win/lose count 3.0/5.0 (-2.0)\n",
      "Epoch 014/050 | Loss 0.0099 | Win/lose count 5.0/3.0 (2.0)\n",
      "Epoch 015/050 | Loss 0.0113 | Win/lose count 6.0/4.0 (2.0)\n",
      "Epoch 016/050 | Loss 0.0004 | Win/lose count 7.0/3.0 (4.0)\n",
      "Epoch 017/050 | Loss 0.0057 | Win/lose count 7.5/5.0 (2.5)\n",
      "Epoch 018/050 | Loss 0.0098 | Win/lose count 5.5/1.0 (4.5)\n",
      "Epoch 019/050 | Loss 0.0039 | Win/lose count 5.5/5.0 (0.5)\n",
      "Epoch 020/050 | Loss 0.0115 | Win/lose count 4.0/5.0 (-1.0)\n",
      "Epoch 021/050 | Loss 0.0070 | Win/lose count 5.0/3.0 (2.0)\n",
      "Epoch 022/050 | Loss 0.0173 | Win/lose count 8.0/9.0 (-1.0)\n",
      "Epoch 023/050 | Loss 0.0074 | Win/lose count 10.0/5.0 (5.0)\n",
      "Epoch 024/050 | Loss 0.0156 | Win/lose count 7.5/4.0 (3.5)\n",
      "Epoch 025/050 | Loss 0.0235 | Win/lose count 8.0/5.0 (3.0)\n",
      "Epoch 026/050 | Loss 0.0065 | Win/lose count 8.0/6.0 (2.0)\n",
      "Epoch 027/050 | Loss 0.0001 | Win/lose count 10.5/4.0 (6.5)\n",
      "Epoch 028/050 | Loss 0.0066 | Win/lose count 15.0/3.0 (12.0)\n",
      "Epoch 029/050 | Loss 0.0046 | Win/lose count 17.0/5.0 (12.0)\n",
      "Epoch 030/050 | Loss 0.0125 | Win/lose count 10.0/4.0 (6.0)\n",
      "Epoch 031/050 | Loss 0.0318 | Win/lose count 8.5/6.0 (2.5)\n",
      "Epoch 032/050 | Loss 0.0127 | Win/lose count 6.5/6.0 (0.5)\n",
      "Epoch 033/050 | Loss 0.0163 | Win/lose count 9.5/4.0 (5.5)\n",
      "Epoch 034/050 | Loss 0.0083 | Win/lose count 7.0/5.0 (2.0)\n",
      "Epoch 035/050 | Loss 0.0041 | Win/lose count 10.5/3.0 (7.5)\n",
      "Epoch 036/050 | Loss 0.0028 | Win/lose count 13.5/4.0 (9.5)\n",
      "Epoch 037/050 | Loss 0.0065 | Win/lose count 8.0/1.0 (7.0)\n",
      "Epoch 038/050 | Loss 0.0128 | Win/lose count 13.0/5.0 (8.0)\n",
      "Epoch 039/050 | Loss 0.0178 | Win/lose count 6.5/9.0 (-2.5)\n",
      "Epoch 040/050 | Loss 0.0075 | Win/lose count 7.5/4.0 (3.5)\n",
      "Epoch 041/050 | Loss 0.0129 | Win/lose count 13.0/6.0 (7.0)\n",
      "Epoch 042/050 | Loss 0.0100 | Win/lose count 8.0/3.0 (5.0)\n",
      "Epoch 043/050 | Loss 0.0131 | Win/lose count 9.5/10.0 (-0.5)\n",
      "Epoch 044/050 | Loss 0.0194 | Win/lose count 11.0/7.0 (4.0)\n",
      "Epoch 045/050 | Loss 0.0090 | Win/lose count 13.0/7.0 (6.0)\n",
      "Epoch 046/050 | Loss 0.0101 | Win/lose count 14.0/9.0 (5.0)\n",
      "Epoch 047/050 | Loss 0.0047 | Win/lose count 9.0/5.0 (4.0)\n",
      "Epoch 048/050 | Loss 0.0242 | Win/lose count 12.0/7.0 (5.0)\n",
      "Epoch 049/050 | Loss 0.0185 | Win/lose count 6.0/3.0 (3.0)\n"
     ]
    },
    {
     "data": {
      "text/html": [
       "<video alt=\"test\" controls>\n",
       "                <source src=\"data:video/mp4;base64,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\" type=\"video/mp4\" />\n",
       "             </video>"
      ],
      "text/plain": [
       "<IPython.core.display.HTML object>"
      ]
     },
     "execution_count": 27,
     "metadata": {},
     "output_type": "execute_result"
    }
   ],
   "source": [
    "env = Environment(grid_size = size, max_time = T, temperature = 0.7)\n",
    "agent = DQN_CNN(size, lr = .1, epsilon = 0.1, memory_size = 2000, batch_size = 32)\n",
    "train(agent,env,epochs_train,prefix = 'cnn_train')\n",
    "HTML(display_videos('cnn_train10.mp4'))"
   ]
  },
  {
   "cell_type": "markdown",
   "metadata": {},
   "source": [
    "***\n",
    "***\n",
    "__Question 9__ Test both algorithms and compare their performances. Which issue(s) do you observe? Observe also different behaviors by changing the temperature."
   ]
  },
  {
   "cell_type": "code",
   "execution_count": 28,
   "metadata": {},
   "outputs": [
    {
     "name": "stdout",
     "output_type": "stream",
     "text": [
      "Test of the CNN\n",
      "Win/lose count 0/0. Average score (0.0)\n",
      "Win/lose count 1.0/0. Average score (0.5)\n",
      "Win/lose count 1.5/0. Average score (0.8333333333333334)\n",
      "Win/lose count 0.5/0. Average score (0.75)\n",
      "Win/lose count 0.5/0. Average score (0.7)\n",
      "Win/lose count 0/0. Average score (0.5833333333333334)\n",
      "Win/lose count 0/0. Average score (0.5)\n",
      "Win/lose count 0.5/0. Average score (0.5)\n",
      "Win/lose count 0/0. Average score (0.4444444444444444)\n",
      "Win/lose count 0/0. Average score (0.4)\n",
      "Final score: 0.4\n",
      "Test of the FC\n",
      "Win/lose count 0/0. Average score (0.0)\n",
      "Win/lose count 0/2.0. Average score (-1.0)\n",
      "Win/lose count 0.5/0. Average score (-0.5)\n",
      "Win/lose count 2.5/0. Average score (0.25)\n",
      "Win/lose count 1.5/1.0. Average score (0.3)\n",
      "Win/lose count 1.5/1.0. Average score (0.3333333333333333)\n",
      "Win/lose count 0.5/0. Average score (0.35714285714285715)\n",
      "Win/lose count 0.5/3.0. Average score (0.0)\n",
      "Win/lose count 1.5/6.0. Average score (-0.5)\n",
      "Win/lose count 0.5/0. Average score (-0.4)\n",
      "Final score: -0.4\n"
     ]
    }
   ],
   "source": [
    "env = Environment(grid_size = size, max_time = T, temperature = 0.3)\n",
    "agent_cnn = DQN_CNN(size, lr = .1, epsilon = 0.1, memory_size = 2000, batch_size = 32)\n",
    "agent_cnn.load(name_weights = 'cnn_trainmodel.h5', name_model = 'cnn_trainmodel.json')\n",
    "\n",
    "agent_fc = DQN_FC(size, lr = .1, epsilon = 0.1, memory_size = 2000, batch_size = 32)\n",
    "agent_cnn.load(name_weights = 'fc_trainmodel.h5', name_model = 'fc_trainmodel.json')\n",
    "\n",
    "print('Test of the CNN')\n",
    "test(agent_cnn,env,epochs_test,prefix = 'cnn_test')\n",
    "print('Test of the FC')\n",
    "test(agent_fc,env,epochs_test,prefix = 'fc_test')"
   ]
  },
  {
   "cell_type": "code",
   "execution_count": 29,
   "metadata": {},
   "outputs": [
    {
     "data": {
      "text/html": [
       "<video alt=\"test\" controls>\n",
       "                <source src=\"data:video/mp4;base64,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\" type=\"video/mp4\" />\n",
       "             </video>"
      ],
      "text/plain": [
       "<IPython.core.display.HTML object>"
      ]
     },
     "execution_count": 29,
     "metadata": {},
     "output_type": "execute_result"
    }
   ],
   "source": [
    "HTML(display_videos('cnn_test9.mp4'))"
   ]
  },
  {
   "cell_type": "code",
   "execution_count": 30,
   "metadata": {},
   "outputs": [
    {
     "data": {
      "text/html": [
       "<video alt=\"test\" controls>\n",
       "                <source src=\"data:video/mp4;base64,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\" type=\"video/mp4\" />\n",
       "             </video>"
      ],
      "text/plain": [
       "<IPython.core.display.HTML object>"
      ]
     },
     "execution_count": 30,
     "metadata": {},
     "output_type": "execute_result"
    }
   ],
   "source": [
    "HTML(display_videos('fc_test9.mp4'))"
   ]
  },
  {
   "cell_type": "markdown",
   "metadata": {},
   "source": [
    "**Impact of temperature increase**\n",
    "\n",
    "With a higher value of temperature, we notice higher rewards because of the increased probability of presence of cheese in comparison with poison"
   ]
  },
  {
   "cell_type": "markdown",
   "metadata": {},
   "source": [
    "***\n",
    "\n",
    "The algorithm tends to not explore the map which can be an issue. We propose two ideas in order to encourage exploration:\n",
    "1. Incorporating a decreasing $\\epsilon$-greedy exploration. You can use the method ```set_epsilon```\n",
    "2. Append via the environment a new state that describes if a cell has been visited or not\n",
    "\n",
    "***\n",
    "__Question 10__ Design a new ```train_explore``` function and environment class ```EnvironmentExploring``` to tackle the issue of exploration.\n",
    "\n"
   ]
  },
  {
   "cell_type": "code",
   "execution_count": 37,
   "metadata": {},
   "outputs": [],
   "source": [
    "def train_explore(agent, env, epoch, prefix = ''):\n",
    "    # Number of won games\n",
    "    score = 0\n",
    "    loss = 0\n",
    "    agent.set_epsilon(0.8)\n",
    "    for e in range(epoch):\n",
    "        # At each epoch, we restart to a fresh game and get the initial state\n",
    "        state = env.reset()\n",
    "        # This assumes that the games will terminate\n",
    "        game_over = False\n",
    "\n",
    "        win = 0\n",
    "        lose = 0\n",
    "\n",
    "        \n",
    "        \n",
    "        while not game_over:\n",
    "            # The agent performs an action\n",
    "            agent.set_epsilon(agent.epsilon * 0.8)\n",
    "            action = agent.act(state, train = True)\n",
    "\n",
    "            # Apply an action to the environment, get the next state, the reward\n",
    "            # and if the games end\n",
    "            prev_state = state\n",
    "            state, reward, game_over = env.act(action, train = True)\n",
    "\n",
    "            # Update the counters\n",
    "            if reward > 0:\n",
    "                win = win + reward\n",
    "            if reward < 0:\n",
    "                lose = lose - reward\n",
    "\n",
    "            # Apply the reinforcement strategy\n",
    "            loss = agent.reinforce(prev_state, state, action, reward, game_over)\n",
    "\n",
    "        # Save as a mp4\n",
    "        if e % 10 == 0:\n",
    "            env.draw(prefix + str(e))\n",
    "\n",
    "        # Update stats\n",
    "        score += win - lose\n",
    "\n",
    "        print(\"Epoch {:03d}/{:03d} | Loss {:.4f} | Win/lose count {}/{} ({})\"\n",
    "              .format(e, epoch, loss, win, lose, win-lose))\n",
    "        agent.save(name_weights = prefix + 'model.h5', name_model = prefix + 'model.json')\n",
    "        \n",
    "class EnvironmentExploring(object):\n",
    "    def __init__(self, grid_size = 10, max_time = 500, temperature = 0.1):\n",
    "        grid_size = grid_size + 4\n",
    "        self.grid_size = grid_size\n",
    "        self.max_time = max_time\n",
    "        self.temperature = temperature\n",
    "        # we add malus_position as a attribute of this new environment class\n",
    "        self.malus_position = np.zeros((grid_size, grid_size))\n",
    "\n",
    "        #board on which one plays\n",
    "        self.board = np.zeros((grid_size,grid_size))\n",
    "        self.position = np.zeros((grid_size,grid_size))\n",
    "\n",
    "        # coordinates of the rat\n",
    "        self.x = 0\n",
    "        self.y = 1\n",
    "\n",
    "        # self time\n",
    "        self.t = 0\n",
    "\n",
    "        self.scale = 16\n",
    "\n",
    "        self.to_draw = np.zeros((max_time + 2, grid_size * self.scale, grid_size * self.scale, 3))\n",
    "\n",
    "\n",
    "    def draw(self,e):\n",
    "        skvideo.io.vwrite(str(e) + '.mp4', self.to_draw)\n",
    "\n",
    "    def get_frame(self,t):\n",
    "        # b is a list of n=grid_size matrices of size grid_size*3\n",
    "        b = np.zeros((self.grid_size, self.grid_size, 3)) + 128\n",
    "        \n",
    "        #replaces the coefficients of b by 256 if the coefficients of board in same position are positive\n",
    "        b[self.board > 0,0] = 256\n",
    "        #replaces the coefficients of b by 256 if the coefficients of board in same position are inferior to 0,2\n",
    "        b[self.board < 0,2] = 256\n",
    "        #replace the coefficients of rat position by 256\n",
    "        b[self.x, self.y, :] = 256\n",
    "        \n",
    "        b[-2:,:,:] = 0\n",
    "        b[:,-2:,:] = 0\n",
    "        b[:2,:,:] = 0\n",
    "        b[:,:2,:] = 0\n",
    "        \n",
    "        b =  cv2.resize(b, None, fx = self.scale, fy = self.scale, interpolation = cv2.INTER_NEAREST)\n",
    "\n",
    "        self.to_draw[t,:,:,:] = b\n",
    "        #return an output ??\n",
    "\n",
    "    def act(self, action, train = True):\n",
    "        \"\"\"This function returns the new state, reward and decides if the\n",
    "        game ends.\"\"\"\n",
    "\n",
    "        self.get_frame(int(self.t))\n",
    "\n",
    "        self.position = np.zeros((self.grid_size, self.grid_size))\n",
    "\n",
    "        self.position[0:2,:]= -1\n",
    "        self.position[:,0:2] = -1\n",
    "        self.position[-2:, :] = -1\n",
    "        self.position[:, -2:] = -1\n",
    "\n",
    "        self.position[self.x, self.y] = 1\n",
    "        if action == 0:\n",
    "            if self.x == self.grid_size - 3:\n",
    "                self.x = self.x - 1\n",
    "            else:\n",
    "                self.x = self.x + 1\n",
    "                \n",
    "        elif action == 1:\n",
    "            if self.x == 2:\n",
    "                self.x = self.x + 1\n",
    "            else:\n",
    "                self.x = self.x - 1\n",
    "                \n",
    "        elif action == 2:\n",
    "            if self.y == self.grid_size - 3:\n",
    "                self.y = self.y - 1\n",
    "            else:\n",
    "                self.y = self.y + 1\n",
    "                \n",
    "        elif action == 3:\n",
    "            if self.y == 2:\n",
    "                self.y = self.y + 1\n",
    "            else:\n",
    "                self.y = self.y - 1\n",
    "        else:\n",
    "            RuntimeError('Error: action not recognized')\n",
    "        \n",
    "        #increments time counter\n",
    "        self.t = self.t + 1\n",
    "        \n",
    "        #gets the reward value for the new state (x,y)\n",
    "        reward = 0\n",
    "        if train:\n",
    "            reward = - self.malus_position[self.x, self.y]\n",
    "        self.malus_position[self.x, self.y] = 0.1\n",
    "        reward = reward + self.board[self.x, self.y]\n",
    " \n",
    "        self.board[self.x, self.y] = 0\n",
    "        game_over = self.t > self.max_time\n",
    "        state = np.concatenate((\n",
    "                                self.malus_position.reshape(self.grid_size, self.grid_size,1),\n",
    "                                self.board.reshape(self.grid_size, self.grid_size,1),\n",
    "                                self.position.reshape(self.grid_size, self.grid_size,1)),\n",
    "                                axis = 2)\n",
    "        state = state[self.x-2 : self.x+3, self.y-2 : self.y+3, :]\n",
    "\n",
    "        return state, reward, game_over\n",
    "\n",
    "    def reset(self):\n",
    "        \"\"\"This function resets the game and returns the initial state\"\"\"\n",
    "\n",
    "        self.x = np.random.randint(3, self.grid_size-3, size=1)[0]\n",
    "        self.y = np.random.randint(3, self.grid_size-3, size=1)[0]\n",
    "\n",
    "        #create a grid size table of bonuses and maluses dependant from the temperature\n",
    "        \n",
    "        bonus = 0.5 * np.random.binomial(1, self.temperature, size = self.grid_size**2)\n",
    "        bonus = bonus.reshape(self.grid_size, self.grid_size)\n",
    "\n",
    "        malus = -1.0 * np.random.binomial(1, self.temperature, size = self.grid_size**2)\n",
    "        malus = malus.reshape(self.grid_size, self.grid_size)\n",
    "\n",
    "        self.to_draw = np.zeros((self.max_time + 2, self.grid_size * self.scale, self.grid_size * self.scale, 3))\n",
    "\n",
    "        #replace malus by zero if bonus is positive\n",
    "        malus[bonus>0] = 0\n",
    "\n",
    "        self.board = bonus + malus\n",
    "\n",
    "        self.position = np.zeros((self.grid_size, self.grid_size))\n",
    "        self.position[0:2,:]= -1\n",
    "        self.position[:,0:2] = -1\n",
    "        self.position[-2:, :] = -1\n",
    "        self.position[-2:, :] = -1\n",
    "        self.board[self.x,self.y] = 0\n",
    "        self.t = 0\n",
    "        #initialize malus_position to a table of zeros\n",
    "        self.malus_position = np.zeros((self.grid_size, self.grid_size))\n",
    "        state = np.concatenate((\n",
    "                               self.malus_position.reshape(self.grid_size, self.grid_size,1),\n",
    "                               self.board.reshape(self.grid_size, self.grid_size, 1),\n",
    "                               self.position.reshape(self.grid_size, self.grid_size, 1)),\n",
    "                               axis=2)\n",
    "\n",
    "        state = state[self.x-2 : self.x+3, self.y-2 : self.y+3, :]\n",
    "        return state"
   ]
  },
  {
   "cell_type": "code",
   "execution_count": 38,
   "metadata": {},
   "outputs": [
    {
     "name": "stdout",
     "output_type": "stream",
     "text": [
      "Epoch 000/050 | Loss 0.0474 | Win/lose count 3.5/27.800000000000068 (-24.300000000000068)\n",
      "Epoch 001/050 | Loss 0.0100 | Win/lose count 4.5/22.50000000000006 (-18.00000000000006)\n",
      "Epoch 002/050 | Loss 0.0324 | Win/lose count 7.0/32.200000000000124 (-25.200000000000124)\n",
      "Epoch 003/050 | Loss 0.0219 | Win/lose count 7.5/26.100000000000044 (-18.600000000000044)\n",
      "Epoch 004/050 | Loss 0.0372 | Win/lose count 9.0/25.100000000000037 (-16.100000000000037)\n",
      "Epoch 005/050 | Loss 0.0129 | Win/lose count 11.5/28.20000000000011 (-16.70000000000011)\n",
      "Epoch 006/050 | Loss 0.0365 | Win/lose count 11.5/27.80000000000008 (-16.30000000000008)\n",
      "Epoch 007/050 | Loss 0.0185 | Win/lose count 11.5/27.20000000000006 (-15.70000000000006)\n",
      "Epoch 008/050 | Loss 0.0275 | Win/lose count 11.0/29.800000000000065 (-18.800000000000065)\n",
      "Epoch 009/050 | Loss 0.0371 | Win/lose count 9.5/31.30000000000011 (-21.80000000000011)\n",
      "Epoch 010/050 | Loss 0.0237 | Win/lose count 10.5/30.100000000000065 (-19.600000000000065)\n",
      "Epoch 011/050 | Loss 0.0215 | Win/lose count 12.0/23.300000000000047 (-11.300000000000047)\n",
      "Epoch 012/050 | Loss 0.0194 | Win/lose count 7.0/34.10000000000006 (-27.10000000000006)\n",
      "Epoch 013/050 | Loss 0.0283 | Win/lose count 10.5/28.0000000000001 (-17.5000000000001)\n",
      "Epoch 014/050 | Loss 0.0303 | Win/lose count 12.0/30.000000000000085 (-18.000000000000085)\n",
      "Epoch 015/050 | Loss 0.0183 | Win/lose count 13.0/26.40000000000005 (-13.400000000000048)\n",
      "Epoch 016/050 | Loss 0.0178 | Win/lose count 12.5/30.300000000000082 (-17.800000000000082)\n",
      "Epoch 017/050 | Loss 0.0045 | Win/lose count 12.0/35.70000000000008 (-23.70000000000008)\n",
      "Epoch 018/050 | Loss 0.0369 | Win/lose count 11.0/22.800000000000026 (-11.800000000000026)\n",
      "Epoch 019/050 | Loss 0.0171 | Win/lose count 12.0/27.800000000000086 (-15.800000000000086)\n",
      "Epoch 020/050 | Loss 0.0209 | Win/lose count 10.0/37.40000000000012 (-27.40000000000012)\n",
      "Epoch 021/050 | Loss 0.0220 | Win/lose count 18.5/26.00000000000007 (-7.500000000000071)\n",
      "Epoch 022/050 | Loss 0.0215 | Win/lose count 10.0/34.40000000000006 (-24.400000000000063)\n",
      "Epoch 023/050 | Loss 0.0066 | Win/lose count 10.5/28.30000000000009 (-17.80000000000009)\n",
      "Epoch 024/050 | Loss 0.0378 | Win/lose count 11.5/29.100000000000076 (-17.600000000000076)\n",
      "Epoch 025/050 | Loss 0.0287 | Win/lose count 15.0/30.300000000000097 (-15.300000000000097)\n",
      "Epoch 026/050 | Loss 0.0477 | Win/lose count 11.0/28.100000000000094 (-17.100000000000094)\n",
      "Epoch 027/050 | Loss 0.0151 | Win/lose count 15.0/37.00000000000009 (-22.000000000000092)\n",
      "Epoch 028/050 | Loss 0.0093 | Win/lose count 11.5/32.0000000000001 (-20.5000000000001)\n",
      "Epoch 029/050 | Loss 0.0363 | Win/lose count 8.5/29.100000000000094 (-20.600000000000094)\n",
      "Epoch 030/050 | Loss 0.0345 | Win/lose count 15.0/33.600000000000094 (-18.600000000000094)\n",
      "Epoch 031/050 | Loss 0.0274 | Win/lose count 15.5/29.100000000000087 (-13.600000000000087)\n",
      "Epoch 032/050 | Loss 0.0341 | Win/lose count 12.5/34.70000000000012 (-22.200000000000117)\n",
      "Epoch 033/050 | Loss 0.0350 | Win/lose count 13.5/28.900000000000095 (-15.400000000000095)\n",
      "Epoch 034/050 | Loss 0.0188 | Win/lose count 13.0/30.200000000000102 (-17.200000000000102)\n",
      "Epoch 035/050 | Loss 0.0119 | Win/lose count 9.0/28.200000000000045 (-19.200000000000045)\n",
      "Epoch 036/050 | Loss 0.0313 | Win/lose count 8.0/27.300000000000065 (-19.300000000000065)\n",
      "Epoch 037/050 | Loss 0.0192 | Win/lose count 10.0/29.20000000000008 (-19.20000000000008)\n",
      "Epoch 038/050 | Loss 0.0086 | Win/lose count 12.0/34.50000000000011 (-22.500000000000107)\n",
      "Epoch 039/050 | Loss 0.0183 | Win/lose count 10.5/33.60000000000009 (-23.100000000000087)\n",
      "Epoch 040/050 | Loss 0.0241 | Win/lose count 14.0/27.200000000000074 (-13.200000000000074)\n",
      "Epoch 041/050 | Loss 0.0219 | Win/lose count 9.0/21.400000000000034 (-12.400000000000034)\n",
      "Epoch 042/050 | Loss 0.0201 | Win/lose count 9.5/25.60000000000006 (-16.10000000000006)\n",
      "Epoch 043/050 | Loss 0.0123 | Win/lose count 18.0/34.50000000000005 (-16.50000000000005)\n",
      "Epoch 044/050 | Loss 0.0565 | Win/lose count 13.5/29.500000000000078 (-16.000000000000078)\n",
      "Epoch 045/050 | Loss 0.0196 | Win/lose count 11.5/33.900000000000084 (-22.400000000000084)\n",
      "Epoch 046/050 | Loss 0.0429 | Win/lose count 8.5/25.200000000000063 (-16.700000000000063)\n",
      "Epoch 047/050 | Loss 0.0323 | Win/lose count 8.0/25.800000000000068 (-17.800000000000068)\n",
      "Epoch 048/050 | Loss 0.0154 | Win/lose count 10.0/30.100000000000115 (-20.100000000000115)\n",
      "Epoch 049/050 | Loss 0.0427 | Win/lose count 12.5/28.500000000000064 (-16.000000000000064)\n"
     ]
    },
    {
     "data": {
      "text/html": [
       "<video alt=\"test\" controls>\n",
       "                <source src=\"data:video/mp4;base64,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\" type=\"video/mp4\" />\n",
       "             </video>"
      ],
      "text/plain": [
       "<IPython.core.display.HTML object>"
      ]
     },
     "execution_count": 38,
     "metadata": {},
     "output_type": "execute_result"
    }
   ],
   "source": [
    "# Training\n",
    "epochs_train = 50\n",
    "env = EnvironmentExploring(grid_size = size, max_time = T, temperature = 0.3)\n",
    "agent = DQN_CNN(size, lr = .1, epsilon = 0.8, memory_size = 2000, batch_size = 32,n_state = 3)\n",
    "train_explore(agent, env, epochs_train, prefix = 'cnn_train_explore')\n",
    "HTML(display_videos('cnn_train_explore10.mp4'))"
   ]
  },
  {
   "cell_type": "code",
   "execution_count": 39,
   "metadata": {},
   "outputs": [
    {
     "name": "stdout",
     "output_type": "stream",
     "text": [
      "Win/lose count 1.5/20.600000000000026. Average score (-19.100000000000026)\n",
      "Win/lose count 0/19.70000000000001. Average score (-19.40000000000002)\n",
      "Win/lose count 0.5/19.900000000000013. Average score (-19.400000000000016)\n",
      "Win/lose count 1.0/24.100000000000076. Average score (-20.32500000000003)\n",
      "Win/lose count 1.5/21.400000000000034. Average score (-20.24000000000003)\n",
      "Win/lose count 0.5/22.200000000000045. Average score (-20.483333333333366)\n",
      "Win/lose count 0.5/21.600000000000037. Average score (-20.571428571428605)\n",
      "Win/lose count 0.5/19.80000000000001. Average score (-20.41250000000003)\n",
      "Win/lose count 0.5/23.10000000000006. Average score (-20.655555555555587)\n",
      "Win/lose count 1.0/22.000000000000043. Average score (-20.690000000000033)\n",
      "Final score: -20.690000000000033\n"
     ]
    },
    {
     "data": {
      "text/html": [
       "<video alt=\"test\" controls>\n",
       "                <source src=\"data:video/mp4;base64,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\" type=\"video/mp4\" />\n",
       "             </video>"
      ],
      "text/plain": [
       "<IPython.core.display.HTML object>"
      ]
     },
     "execution_count": 39,
     "metadata": {},
     "output_type": "execute_result"
    }
   ],
   "source": [
    "# Evaluation\n",
    "test(agent,env,epochs_test,prefix='cnn_test_explore')\n",
    "HTML(display_videos('cnn_test_explore9.mp4'))"
   ]
  },
  {
   "cell_type": "markdown",
   "metadata": {},
   "source": [
    "***\n",
    "***\n",
    "__BONUS question__ Use the expert DQN from the previous question to generate some winning games. Train a model that mimicks its behavior. Compare the performances."
   ]
  },
  {
   "cell_type": "markdown",
   "metadata": {},
   "source": []
  },
  {
   "cell_type": "markdown",
   "metadata": {},
   "source": [
    "***"
   ]
  }
 ],
 "metadata": {
  "kernelspec": {
   "display_name": "Python 3",
   "language": "python",
   "name": "python3"
  },
  "language_info": {
   "codemirror_mode": {
    "name": "ipython",
    "version": 3
   },
   "file_extension": ".py",
   "mimetype": "text/x-python",
   "name": "python",
   "nbconvert_exporter": "python",
   "pygments_lexer": "ipython3",
   "version": "3.6.8"
  }
 },
 "nbformat": 4,
 "nbformat_minor": 2
}
